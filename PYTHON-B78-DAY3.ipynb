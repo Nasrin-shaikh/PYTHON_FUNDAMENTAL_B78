{
 "cells": [
  {
   "cell_type": "code",
   "execution_count": 22,
   "id": "8f23d4c8",
   "metadata": {},
   "outputs": [],
   "source": [
    "#continuation with string datatype:"
   ]
  },
  {
   "cell_type": "code",
   "execution_count": null,
   "id": "adae8624",
   "metadata": {},
   "outputs": [],
   "source": [
    "Introduction to f string:"
   ]
  },
  {
   "cell_type": "code",
   "execution_count": null,
   "id": "cb56182e",
   "metadata": {},
   "outputs": [],
   "source": [
    "General syntax of f string:"
   ]
  },
  {
   "cell_type": "code",
   "execution_count": null,
   "id": "4e897d1f",
   "metadata": {},
   "outputs": [],
   "source": [
    "syntax: f\"custom words,{placeholder1}{placeholder2}.......{placeholdern}\""
   ]
  },
  {
   "cell_type": "code",
   "execution_count": 2,
   "id": "dc553d7e",
   "metadata": {},
   "outputs": [],
   "source": [
    "#example:"
   ]
  },
  {
   "cell_type": "code",
   "execution_count": 3,
   "id": "9d70f344",
   "metadata": {},
   "outputs": [],
   "source": [
    "firstname=\"nasrin\"\n",
    "lastname='shaikh'"
   ]
  },
  {
   "cell_type": "code",
   "execution_count": null,
   "id": "c5706f62",
   "metadata": {},
   "outputs": [],
   "source": [
    "#req:    I wnat to get fullname"
   ]
  },
  {
   "cell_type": "code",
   "execution_count": 4,
   "id": "6d4504ff",
   "metadata": {},
   "outputs": [],
   "source": [
    "fullname=f\"{firstname}{lastname}\""
   ]
  },
  {
   "cell_type": "code",
   "execution_count": 6,
   "id": "816689c6",
   "metadata": {},
   "outputs": [
    {
     "name": "stdout",
     "output_type": "stream",
     "text": [
      "nasrinshaikh\n"
     ]
    }
   ],
   "source": [
    "print(fullname)"
   ]
  },
  {
   "cell_type": "code",
   "execution_count": null,
   "id": "87087b18",
   "metadata": {},
   "outputs": [],
   "source": [
    "#Q woh to make the correct format what method we have to use?"
   ]
  },
  {
   "cell_type": "code",
   "execution_count": 8,
   "id": "c0190eff",
   "metadata": {},
   "outputs": [
    {
     "name": "stdout",
     "output_type": "stream",
     "text": [
      "Nasrinshaikh\n"
     ]
    }
   ],
   "source": [
    "print(fullname.title())\n"
   ]
  },
  {
   "cell_type": "code",
   "execution_count": 9,
   "id": "3655e5ae",
   "metadata": {},
   "outputs": [],
   "source": [
    "fullname=f\"{firstname} {lastname}\""
   ]
  },
  {
   "cell_type": "code",
   "execution_count": 10,
   "id": "348e7ace",
   "metadata": {},
   "outputs": [
    {
     "name": "stdout",
     "output_type": "stream",
     "text": [
      "nasrin shaikh\n"
     ]
    }
   ],
   "source": [
    "print(fullname)"
   ]
  },
  {
   "cell_type": "code",
   "execution_count": 11,
   "id": "e54f41ce",
   "metadata": {},
   "outputs": [
    {
     "name": "stdout",
     "output_type": "stream",
     "text": [
      "Nasrin Shaikh\n"
     ]
    }
   ],
   "source": [
    "print(fullname.title())"
   ]
  },
  {
   "cell_type": "code",
   "execution_count": 19,
   "id": "f925507e",
   "metadata": {},
   "outputs": [],
   "source": [
    "# Q what is the use of this custom words?"
   ]
  },
  {
   "cell_type": "code",
   "execution_count": 12,
   "id": "d10ce33e",
   "metadata": {},
   "outputs": [],
   "source": [
    "fullname=\"faiyaz shaikh\" "
   ]
  },
  {
   "cell_type": "code",
   "execution_count": 13,
   "id": "f5d8956f",
   "metadata": {},
   "outputs": [
    {
     "name": "stdout",
     "output_type": "stream",
     "text": [
      "faiyaz shaikh\n"
     ]
    }
   ],
   "source": [
    "print(fullname)"
   ]
  },
  {
   "cell_type": "code",
   "execution_count": 16,
   "id": "38b2396b",
   "metadata": {},
   "outputs": [],
   "source": [
    "message=f\" Thank you so much sir you not only teaches python language but also take practice to all students this thanks for, {fullname.title()}\""
   ]
  },
  {
   "cell_type": "code",
   "execution_count": 17,
   "id": "ab051ad6",
   "metadata": {},
   "outputs": [
    {
     "name": "stdout",
     "output_type": "stream",
     "text": [
      " Thank you so much sir you not only teaches python language but also take practice to all students this thanks for, Faiyaz Shaikh\n"
     ]
    }
   ],
   "source": [
    "print(message)"
   ]
  },
  {
   "cell_type": "code",
   "execution_count": 18,
   "id": "d8693029",
   "metadata": {},
   "outputs": [],
   "source": [
    "#adding whitespaces to string"
   ]
  },
  {
   "cell_type": "code",
   "execution_count": null,
   "id": "7d612faa",
   "metadata": {},
   "outputs": [],
   "source": [
    "#senario: there is a college in that college i have done survey among the students to choose their favorite progaming languages"
   ]
  },
  {
   "cell_type": "code",
   "execution_count": 23,
   "id": "40749865",
   "metadata": {},
   "outputs": [
    {
     "name": "stdout",
     "output_type": "stream",
     "text": [
      "favorite_programing_languages:PYTHONJAVAC++\n"
     ]
    }
   ],
   "source": [
    "print(\"favorite_programing_languages:PYTHONJAVAC++\")"
   ]
  },
  {
   "cell_type": "code",
   "execution_count": null,
   "id": "c4150347",
   "metadata": {},
   "outputs": [],
   "source": [
    "#DELIMITER\n",
    "\\n-------> it is new line delimiter\n",
    "\\t-------->it is a tab delimiter"
   ]
  },
  {
   "cell_type": "code",
   "execution_count": 24,
   "id": "07b775cf",
   "metadata": {},
   "outputs": [
    {
     "name": "stdout",
     "output_type": "stream",
     "text": [
      "favorite_programing_languages:\n",
      "PYTHON\n",
      "JAVA\n",
      "C++\n"
     ]
    }
   ],
   "source": [
    "print(\"favorite_programing_languages:\\nPYTHON\\nJAVA\\nC++\")"
   ]
  },
  {
   "cell_type": "code",
   "execution_count": 25,
   "id": "ecd6976b",
   "metadata": {},
   "outputs": [
    {
     "name": "stdout",
     "output_type": "stream",
     "text": [
      "favorite_programing_languages:\n",
      "\tPYTHON\n",
      "\tJAVA\n",
      "\tC++\n"
     ]
    }
   ],
   "source": [
    "print(\"favorite_programing_languages:\\n\\tPYTHON\\n\\tJAVA\\n\\tC++\")"
   ]
  },
  {
   "cell_type": "code",
   "execution_count": 26,
   "id": "dcfd7755",
   "metadata": {},
   "outputs": [
    {
     "name": "stdout",
     "output_type": "stream",
     "text": [
      "favorite_programing_languages:\tPYTHON\tJAVA\tC++\n"
     ]
    }
   ],
   "source": [
    "print(\"favorite_programing_languages:\\tPYTHON\\tJAVA\\tC++\")"
   ]
  },
  {
   "cell_type": "code",
   "execution_count": null,
   "id": "878454ae",
   "metadata": {},
   "outputs": [],
   "source": [
    "#removing whitespaces from string"
   ]
  },
  {
   "cell_type": "code",
   "execution_count": 29,
   "id": "781b9300",
   "metadata": {},
   "outputs": [],
   "source": [
    "name =\"         python\""
   ]
  },
  {
   "cell_type": "markdown",
   "id": "d1dbb8fa",
   "metadata": {},
   "source": []
  },
  {
   "cell_type": "code",
   "execution_count": 30,
   "id": "d4ff05eb",
   "metadata": {},
   "outputs": [
    {
     "name": "stdout",
     "output_type": "stream",
     "text": [
      "         python\n"
     ]
    }
   ],
   "source": [
    "print(name)"
   ]
  },
  {
   "cell_type": "markdown",
   "id": "b9e4d89b",
   "metadata": {},
   "source": []
  },
  {
   "cell_type": "code",
   "execution_count": 31,
   "id": "cf7eb0c4",
   "metadata": {},
   "outputs": [],
   "source": [
    "name2 = \"python    \""
   ]
  },
  {
   "cell_type": "code",
   "execution_count": 32,
   "id": "90e2b1b3",
   "metadata": {},
   "outputs": [
    {
     "name": "stdout",
     "output_type": "stream",
     "text": [
      "python    \n"
     ]
    }
   ],
   "source": [
    "print(name2)"
   ]
  },
  {
   "cell_type": "code",
   "execution_count": null,
   "id": "41df2962",
   "metadata": {},
   "outputs": [],
   "source": [
    "how to eliminated the whitespaces from string\n",
    "lstrip() ----->  it is stand for left side strip it is use to removing left side spaces in the string\n",
    "rstrip()-------> it is stand for right side strip it is to removing right side spaces in the string\n",
    "strip()--------> it is use for eliminating the left side as well as right side spaces from the string \n"
   ]
  },
  {
   "cell_type": "code",
   "execution_count": 34,
   "id": "864f5e77",
   "metadata": {},
   "outputs": [
    {
     "data": {
      "text/plain": [
       "'python'"
      ]
     },
     "execution_count": 34,
     "metadata": {},
     "output_type": "execute_result"
    }
   ],
   "source": [
    "name.lstrip()"
   ]
  },
  {
   "cell_type": "markdown",
   "id": "53dd2336",
   "metadata": {},
   "source": []
  },
  {
   "cell_type": "markdown",
   "id": "73de2634",
   "metadata": {},
   "source": []
  },
  {
   "cell_type": "code",
   "execution_count": 35,
   "id": "1fc9d3cc",
   "metadata": {},
   "outputs": [
    {
     "data": {
      "text/plain": [
       "'python'"
      ]
     },
     "execution_count": 35,
     "metadata": {},
     "output_type": "execute_result"
    }
   ],
   "source": [
    "name2.rstrip()"
   ]
  },
  {
   "cell_type": "code",
   "execution_count": 36,
   "id": "9a95cb1b",
   "metadata": {},
   "outputs": [
    {
     "ename": "NameError",
     "evalue": "name 'name3' is not defined",
     "output_type": "error",
     "traceback": [
      "\u001b[1;31m---------------------------------------------------------------------------\u001b[0m",
      "\u001b[1;31mNameError\u001b[0m                                 Traceback (most recent call last)",
      "Cell \u001b[1;32mIn[36], line 1\u001b[0m\n\u001b[1;32m----> 1\u001b[0m \u001b[43mname3\u001b[49m\u001b[38;5;241m.\u001b[39mstrip()\n",
      "\u001b[1;31mNameError\u001b[0m: name 'name3' is not defined"
     ]
    }
   ],
   "source": [
    "name3.strip()"
   ]
  },
  {
   "cell_type": "code",
   "execution_count": 37,
   "id": "8eaec4f5",
   "metadata": {},
   "outputs": [],
   "source": [
    "name3=\"     python      \""
   ]
  },
  {
   "cell_type": "code",
   "execution_count": 38,
   "id": "4b3840c8",
   "metadata": {},
   "outputs": [
    {
     "data": {
      "text/plain": [
       "'python'"
      ]
     },
     "execution_count": 38,
     "metadata": {},
     "output_type": "execute_result"
    }
   ],
   "source": [
    "name3.strip()"
   ]
  },
  {
   "cell_type": "code",
   "execution_count": null,
   "id": "d2ff7fd1",
   "metadata": {},
   "outputs": [],
   "source": []
  }
 ],
 "metadata": {
  "kernelspec": {
   "display_name": "Python 3 (ipykernel)",
   "language": "python",
   "name": "python3"
  },
  "language_info": {
   "codemirror_mode": {
    "name": "ipython",
    "version": 3
   },
   "file_extension": ".py",
   "mimetype": "text/x-python",
   "name": "python",
   "nbconvert_exporter": "python",
   "pygments_lexer": "ipython3",
   "version": "3.10.9"
  }
 },
 "nbformat": 4,
 "nbformat_minor": 5
}
